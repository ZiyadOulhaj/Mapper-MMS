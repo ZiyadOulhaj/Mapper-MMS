{
 "cells": [
  {
   "cell_type": "code",
   "execution_count": 3,
   "id": "6297859e-f3c1-4e3b-bb95-09ecf290d1e9",
   "metadata": {},
   "outputs": [],
   "source": [
    "import numpy as np\n",
    "import matplotlib.pyplot as plt\n",
    "import meshplot as mp\n",
    "import itertools\n",
    "from tqdm import tqdm\n",
    "\n",
    "from utils import  sample_torus, get_ot_params, sample_torus_unbalanced\n",
    "import gudhi as gd\n",
    "from mapper import MapperComplex\n",
    "from sklearn.cluster import KMeans\n",
    "from ot import gromov_wasserstein\n",
    "from sklearn.manifold import MDS\n",
    "import matplotlib as mpl\n",
    "import matplotlib.cm as cm\n",
    "import networkx as nx\n"
   ]
  },
  {
   "cell_type": "code",
   "execution_count": 4,
   "id": "c7526a82-b5c4-4d39-b550-19ecbe8b4d95",
   "metadata": {},
   "outputs": [],
   "source": [
    "R=0.75\n",
    "r=0.25"
   ]
  },
  {
   "cell_type": "code",
   "execution_count": 5,
   "id": "b0287db5-bf6c-4f0b-ba90-8c0ccf398bac",
   "metadata": {},
   "outputs": [],
   "source": [
    "points=sample_torus(200000,R,r)"
   ]
  },
  {
   "cell_type": "code",
   "execution_count": 6,
   "id": "f40d97ab-7396-4b03-ac9a-f30a59d9661b",
   "metadata": {},
   "outputs": [
    {
     "data": {
      "text/plain": [
       "(200000, 3)"
      ]
     },
     "execution_count": 6,
     "metadata": {},
     "output_type": "execute_result"
    }
   ],
   "source": [
    "points.shape"
   ]
  },
  {
   "cell_type": "code",
   "execution_count": 7,
   "id": "0e1281d0-8357-41f5-a84e-c9b2363c08dc",
   "metadata": {},
   "outputs": [
    {
     "data": {
      "application/vnd.jupyter.widget-view+json": {
       "model_id": "54e3fd4bfac64f7e988155b82cb5280f",
       "version_major": 2,
       "version_minor": 0
      },
      "text/plain": [
       "Renderer(camera=PerspectiveCamera(children=(DirectionalLight(color='white', intensity=0.6, position=(-1.341104…"
      ]
     },
     "metadata": {},
     "output_type": "display_data"
    }
   ],
   "source": [
    "mp.plot(points);"
   ]
  },
  {
   "cell_type": "code",
   "execution_count": 8,
   "id": "ea896f6a-3835-4e8a-9d7d-69f9e8de4e47",
   "metadata": {},
   "outputs": [],
   "source": [
    "class custom_clustering:\n",
    "    def __init__(self,R,r):\n",
    "        self.R = R\n",
    "        self.r = r\n",
    "\n",
    "    def fit_predict(self,X):\n",
    "        if np.sum(X[:,1]>(R-r)) + np.sum(X[:,1]<(-R+r)) >0:\n",
    "            return np.repeat(0,X.shape[0])\n",
    "        return (X[:,0]>0).astype(int)"
   ]
  },
  {
   "cell_type": "code",
   "execution_count": 9,
   "id": "47503987-326c-49b2-8e98-a8292d2aab05",
   "metadata": {},
   "outputs": [],
   "source": [
    "clus=custom_clustering(R,r)"
   ]
  },
  {
   "cell_type": "code",
   "execution_count": 10,
   "id": "07b71be3-e031-4193-b956-30f428cde654",
   "metadata": {},
   "outputs": [],
   "source": [
    "size=200000\n",
    "resolutions=np.array([30])\n",
    "gain=np.array([0.3])\n",
    "\n",
    "f=points[:,1].reshape((-1,1))\n",
    "c=np.repeat(1,points.shape[0]).reshape((-1,1))"
   ]
  },
  {
   "cell_type": "code",
   "execution_count": 11,
   "id": "c5fd6d79-b077-419f-b4aa-38f2230ac41d",
   "metadata": {},
   "outputs": [],
   "source": [
    "mapper=MapperComplex(colors=c,filters=f,resolutions=resolutions, gains=gain, clustering=clus)\n",
    "mapper.fit(points);"
   ]
  },
  {
   "cell_type": "code",
   "execution_count": 12,
   "id": "b8887423-a424-4ec3-a17e-624d4df81e2c",
   "metadata": {},
   "outputs": [
    {
     "name": "stdout",
     "output_type": "stream",
     "text": [
      "Warning: When  cdn_resources is 'local' jupyter notebook has issues displaying graphics on chrome/safari. Use cdn_resources='in_line' or cdn_resources='remote' if you have issues viewing graphics in a notebook.\n",
      "torus.html\n"
     ]
    },
    {
     "data": {
      "text/html": [
       "\n",
       "        <iframe\n",
       "            width=\"500px\"\n",
       "            height=\"500px\"\n",
       "            src=\"torus.html\"\n",
       "            frameborder=\"0\"\n",
       "            allowfullscreen\n",
       "            \n",
       "        ></iframe>\n",
       "        "
      ],
      "text/plain": [
       "<IPython.lib.display.IFrame at 0x12d7f0bb0>"
      ]
     },
     "execution_count": 12,
     "metadata": {},
     "output_type": "execute_result"
    }
   ],
   "source": [
    "nt=mapper.get_pyvis()\n",
    "nt.show('torus.html')"
   ]
  },
  {
   "cell_type": "code",
   "execution_count": 13,
   "id": "c055991e-7203-4122-93b8-58e31f931cfe",
   "metadata": {},
   "outputs": [],
   "source": [
    "p,C=get_ot_params(mapper,c/points.shape[0],points,R+r)"
   ]
  },
  {
   "cell_type": "code",
   "execution_count": 17,
   "id": "43b5f337-2a8d-4b1f-8914-83ad58266efa",
   "metadata": {},
   "outputs": [
    {
     "data": {
      "application/vnd.jupyter.widget-view+json": {
       "model_id": "8e20cdbe129441238f31e3049d49a86e",
       "version_major": 2,
       "version_minor": 0
      },
      "text/plain": [
       "Renderer(camera=PerspectiveCamera(children=(DirectionalLight(color='white', intensity=0.6, position=(7.7486038…"
      ]
     },
     "metadata": {},
     "output_type": "display_data"
    }
   ],
   "source": [
    "alpha=1/12\n",
    "beta=1/12\n",
    "points=sample_torus_unbalanced(200000,R,r,alpha,beta)\n",
    "mp.plot(points);"
   ]
  },
  {
   "cell_type": "code",
   "execution_count": 18,
   "id": "d78b48cb-f672-4ab0-842b-9b64b8a46cfa",
   "metadata": {},
   "outputs": [
    {
     "name": "stderr",
     "output_type": "stream",
     "text": [
      "9it [00:49,  5.53s/it]\n"
     ]
    }
   ],
   "source": [
    "np.random.seed(0)\n",
    "size=int(5e5)\n",
    "values=[1/12,1/6,1/3]\n",
    "c=np.repeat(1,size).reshape((-1,1))\n",
    "resolutions=np.array([30])\n",
    "gain=np.array([0.3])\n",
    "ps=[]\n",
    "Cs=[]\n",
    "for alpha,beta in tqdm(itertools.product(values,values)):\n",
    "    points=sample_torus_unbalanced(size,R,r,alpha,beta)\n",
    "    f=points[:,1].reshape((-1,1))\n",
    "    mapper=MapperComplex(colors=c,filters=f,resolutions=resolutions, gains=gain, clustering=clus)\n",
    "    mapper.fit(points);\n",
    "    p_u,C_u=get_ot_params(mapper,c/size,points,R+r)\n",
    "    ps.append(p_u)\n",
    "    Cs.append(C_u)"
   ]
  },
  {
   "cell_type": "code",
   "execution_count": 19,
   "id": "e8ff7602-bfca-4521-9e88-a27512a25300",
   "metadata": {},
   "outputs": [],
   "source": [
    "M=np.zeros((9,9))\n",
    "for i in range(9):\n",
    "    for j in range(i):\n",
    "        T,l=gromov_wasserstein(Cs[i], Cs[j], p=ps[i], q=ps[j],symmetric=True,log=True)\n",
    "        M[i,j]=l['gw_dist']\n",
    "        M[j,i]=M[i,j]"
   ]
  },
  {
   "cell_type": "code",
   "execution_count": 20,
   "id": "78ab84b5-926b-429c-8e28-a9481ac70e6b",
   "metadata": {},
   "outputs": [],
   "source": [
    "embedding = MDS(n_components=2,dissimilarity='precomputed')\n",
    "X = embedding.fit_transform(M)"
   ]
  },
  {
   "cell_type": "code",
   "execution_count": 21,
   "id": "d37fc348-af24-4fbc-992b-a848b5d6e277",
   "metadata": {},
   "outputs": [
    {
     "data": {
      "image/png": "[encoded data removed]",
      "text/plain": [
       "<Figure size 640x480 with 1 Axes>"
      ]
     },
     "metadata": {},
     "output_type": "display_data"
    }
   ],
   "source": [
    "\n",
    "labels = ['a','b','c','d','e','f','g','h','i']\n",
    "\n",
    "fig, ax = plt.subplots()\n",
    "ax.scatter(X[:,0], X[:,1])\n",
    "for i, txt in enumerate(labels):\n",
    "    if i==7 or i==3:\n",
    "        ax.annotate(txt, (X[i,0], X[i,1]),(X[i,0]-0.003, X[i,1]-0.005))\n",
    "    else:    \n",
    "        ax.annotate(txt, (X[i,0], X[i,1]),(X[i,0]+0.002, X[i,1]+0.001))\n",
    "\n",
    "fig.savefig(\"mds.png\")"
   ]
  },
  {
   "cell_type": "code",
   "execution_count": 23,
   "id": "6dbdca2c-8d07-47f3-920a-ac985f6f2fc2",
   "metadata": {},
   "outputs": [
    {
     "data": {
      "text/plain": [
       "array([0.69419561, 0.44729754, 0.49733636, 0.44467399, 0.54355171,\n",
       "       0.51497607, 0.55239735, 0.57624176, 0.64675462])"
      ]
     },
     "execution_count": 23,
     "metadata": {},
     "output_type": "execute_result"
    }
   ],
   "source": [
    "M.sum(axis=0)"
   ]
  },
  {
   "cell_type": "markdown",
   "id": "918f0753-805b-4226-ab7a-ab516ec405c9",
   "metadata": {},
   "source": [
    "## Graph visualization"
   ]
  },
  {
   "cell_type": "code",
   "execution_count": 25,
   "id": "bea8758d-fedd-4a41-a4ec-a8a86c06f297",
   "metadata": {},
   "outputs": [
    {
     "data": {
      "image/png": "[encoded data removed]",
      "text/plain": [
       "<Figure size 640x480 with 1 Axes>"
      ]
     },
     "metadata": {},
     "output_type": "display_data"
    }
   ],
   "source": [
    "values=[1/12,1/6,1/3]\n",
    "for alpha,beta in zip(values,values):\n",
    "    points=sample_torus_unbalanced(size,R,r,alpha,beta)\n",
    "    f=points[:,1].reshape((-1,1))\n",
    "    mapper=MapperComplex(colors=c,filters=f,resolutions=resolutions, gains=gain, clustering=clus)\n",
    "    mapper.fit(points);\n",
    "    ni=mapper.node_info.copy()\n",
    "    edge_colors=[]\n",
    "    st=mapper.simplex_tree\n",
    "\n",
    "    for (splx,_) in st.get_skeleton(1):\n",
    "        if len(splx) == 2:\n",
    "            inter=np.intersect1d(ni[splx[0]]['indices'], ni[splx[1]]['indices'],assume_unique=True)\n",
    "            edge_colors.append(inter.size)\n",
    "            ni[splx[0]]['indices']=np.setdiff1d(ni[splx[0]]['indices'], inter, assume_unique=True)\n",
    "            ni[splx[1]]['indices']=np.setdiff1d(ni[splx[1]]['indices'], inter, assume_unique=True)\n",
    "    \n",
    "    node_colors=[node['indices'].size for node in ni.values()]\n",
    "    \n",
    "    edge_colors=np.array(edge_colors)/size\n",
    "    node_colors=np.array(node_colors)/size\n",
    "    G = nx.Graph()\n",
    "    \n",
    "    for splx, _ in st.get_skeleton(1):\n",
    "        if len(splx) == 1:\n",
    "            G.add_node(splx[0])\n",
    "        if len(splx) == 2:\n",
    "            G.add_edge(splx[0], splx[1])\n",
    "    \n",
    "    \n",
    "    options = {\n",
    "        \"node_color\": node_colors,\n",
    "        \"edge_color\": edge_colors,\n",
    "        \"node_size\":250,\n",
    "        \"edge_cmap\": plt.cm.hot,\n",
    "        \"width\": 1,\n",
    "        \"with_labels\": False,\n",
    "    }\n",
    "    pos = nx.kamada_kawai_layout(G)\n",
    "    nx.draw(G, pos,**options,cmap=plt.cm.hot)\n",
    "    plt.savefig('mapper'+str(alpha)+'_'+str(beta)+'.png')"
   ]
  }
 ],
 "metadata": {
  "kernelspec": {
   "display_name": "Python 3 (ipykernel)",
   "language": "python",
   "name": "python3"
  },
  "language_info": {
   "codemirror_mode": {
    "name": "ipython",
    "version": 3
   },
   "file_extension": ".py",
   "mimetype": "text/x-python",
   "name": "python",
   "nbconvert_exporter": "python",
   "pygments_lexer": "ipython3",
   "version": "3.9.21"
  }
 },
 "nbformat": 4,
 "nbformat_minor": 5
}
