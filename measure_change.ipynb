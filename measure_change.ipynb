{
 "cells": [
  {
   "cell_type": "code",
   "execution_count": 98,
   "id": "6297859e-f3c1-4e3b-bb95-09ecf290d1e9",
   "metadata": {},
   "outputs": [],
   "source": [
    "import numpy as np\n",
    "import matplotlib.pyplot as plt\n",
    "import meshplot as mp\n",
    "from sklearn.utils.random import sample_without_replacement\n",
    "import itertools\n",
    "from scipy.stats import multivariate_normal\n",
    "from joblib import Parallel, delayed\n",
    "import time\n",
    "from tqdm import tqdm\n",
    "from sklearn.linear_model import LinearRegression\n",
    "from numpy.random import uniform\n",
    "\n",
    "from utils import  sample_torus, sample_torus_angles\n",
    "import gudhi as gd\n",
    "from mapper import MapperComplex\n",
    "from sklearn.cluster import KMeans\n",
    "from scipy.spatial.distance import directed_hausdorff\n",
    "from ot import gromov_wasserstein\n",
    "from sklearn.manifold import MDS\n",
    "from pyvis.network import Network\n",
    "import matplotlib as mpl\n",
    "import matplotlib.cm as cm\n",
    "import networkx as nx\n"
   ]
  },
  {
   "cell_type": "code",
   "execution_count": 3,
   "id": "8ec5350f-3798-4505-9354-605768f5a693",
   "metadata": {},
   "outputs": [],
   "source": [
    "def max_dis(i,j,points,dd,D):\n",
    "    I=list(dd.keys())[i]\n",
    "    J=list(dd.keys())[j]\n",
    "    if dd[I].size==0 or dd[J].size==0:\n",
    "        return D\n",
    "    return np.max((directed_hausdorff(points[dd[I],:],points[dd[J],:])[0],directed_hausdorff(points[dd[J],:],points[dd[I],:])[0]))"
   ]
  },
  {
   "cell_type": "code",
   "execution_count": 4,
   "id": "ba73ca63-df62-44ae-83e0-f62ffe8070f0",
   "metadata": {},
   "outputs": [],
   "source": [
    "def get_ot_params(mapper,mes,points,D):\n",
    "\n",
    "    dd={}\n",
    "    st=mapper.simplex_tree\n",
    "    for k in mapper.node_info.keys():\n",
    "        dd[k]=mapper.node_info[k]['indices']\n",
    "\n",
    "    for (splx,_) in st.get_skeleton(1):\n",
    "        if len(splx) == 2:\n",
    "            dd[str(splx)]=np.intersect1d(dd[splx[0]], dd[splx[1]],assume_unique=True)\n",
    "            dd[splx[0]]=np.setdiff1d(dd[splx[0]], dd[str(splx)], assume_unique=True)\n",
    "            dd[splx[1]]=np.setdiff1d(dd[splx[1]], dd[str(splx)], assume_unique=True)\n",
    "\n",
    "    p=np.array([mes[dd[k]].sum() for k in dd.keys()])\n",
    "    inds=np.triu_indices(len(dd.keys()))\n",
    "\n",
    "    #dm=distance_matrix(vertices, vertices)\n",
    "\n",
    "    out=Parallel(n_jobs=-1)(delayed(max_dis)(i, j,points,dd,D) for (i,j) in zip(*inds))\n",
    "\n",
    "    C=np.zeros((len(dd.keys()),len(dd.keys())))\n",
    "\n",
    "    l=list(zip(*inds))\n",
    "    for k in range(len(l)):\n",
    "        v=out[k]\n",
    "        (i,j)=l[k]\n",
    "        C[i,j]=v\n",
    "        C[j,i]=v\n",
    "\n",
    "    return(p,C)"
   ]
  },
  {
   "cell_type": "code",
   "execution_count": 5,
   "id": "c7526a82-b5c4-4d39-b550-19ecbe8b4d95",
   "metadata": {},
   "outputs": [],
   "source": [
    "R=0.75\n",
    "r=0.25"
   ]
  },
  {
   "cell_type": "code",
   "execution_count": 6,
   "id": "b0287db5-bf6c-4f0b-ba90-8c0ccf398bac",
   "metadata": {},
   "outputs": [],
   "source": [
    "points=sample_torus(200000,R,r)"
   ]
  },
  {
   "cell_type": "code",
   "execution_count": 7,
   "id": "f40d97ab-7396-4b03-ac9a-f30a59d9661b",
   "metadata": {},
   "outputs": [
    {
     "data": {
      "text/plain": [
       "(200000, 3)"
      ]
     },
     "execution_count": 7,
     "metadata": {},
     "output_type": "execute_result"
    }
   ],
   "source": [
    "points.shape"
   ]
  },
  {
   "cell_type": "code",
   "execution_count": 8,
   "id": "0e1281d0-8357-41f5-a84e-c9b2363c08dc",
   "metadata": {},
   "outputs": [
    {
     "data": {
      "application/vnd.jupyter.widget-view+json": {
       "model_id": "650de459091840f293523240ccb1a1b0",
       "version_major": 2,
       "version_minor": 0
      },
      "text/plain": [
       "Renderer(camera=PerspectiveCamera(children=(DirectionalLight(color='white', intensity=0.6, position=(2.2649765…"
      ]
     },
     "metadata": {},
     "output_type": "display_data"
    }
   ],
   "source": [
    "mp.plot(points);"
   ]
  },
  {
   "cell_type": "code",
   "execution_count": 9,
   "id": "ea896f6a-3835-4e8a-9d7d-69f9e8de4e47",
   "metadata": {},
   "outputs": [],
   "source": [
    "class custom_clustering:\n",
    "    def __init__(self,R,r):\n",
    "        self.R = R\n",
    "        self.r = r\n",
    "\n",
    "    def fit_predict(self,X):\n",
    "        if np.sum(X[:,1]>(R-r)) + np.sum(X[:,1]<(-R+r)) >0:\n",
    "            return np.repeat(0,X.shape[0])\n",
    "        return (X[:,0]>0).astype(int)"
   ]
  },
  {
   "cell_type": "code",
   "execution_count": 10,
   "id": "47503987-326c-49b2-8e98-a8292d2aab05",
   "metadata": {},
   "outputs": [],
   "source": [
    "clus=custom_clustering(R,r)"
   ]
  },
  {
   "cell_type": "code",
   "execution_count": 82,
   "id": "07b71be3-e031-4193-b956-30f428cde654",
   "metadata": {},
   "outputs": [],
   "source": [
    "size=200000\n",
    "resolutions=np.array([30])\n",
    "gain=np.array([0.3])\n",
    "\n",
    "f=points[:,1].reshape((-1,1))\n",
    "c=np.repeat(1,points.shape[0]).reshape((-1,1))"
   ]
  },
  {
   "cell_type": "code",
   "execution_count": 83,
   "id": "c5fd6d79-b077-419f-b4aa-38f2230ac41d",
   "metadata": {},
   "outputs": [],
   "source": [
    "mapper=MapperComplex(colors=c,filters=f,resolutions=resolutions, gains=gain, clustering=clus)\n",
    "mapper.fit(points);"
   ]
  },
  {
   "cell_type": "code",
   "execution_count": 84,
   "id": "60318b9e-9f44-44f5-a0f5-94258058c877",
   "metadata": {},
   "outputs": [],
   "source": [
    "ni=mapper.node_info.copy()"
   ]
  },
  {
   "cell_type": "code",
   "execution_count": 85,
   "id": "61b1961e-28a1-4d86-965d-508fb4b82977",
   "metadata": {},
   "outputs": [],
   "source": [
    "edge_colors=[]\n",
    "\n",
    "\n",
    "for (splx,_) in st.get_skeleton(1):\n",
    "    if len(splx) == 2:\n",
    "        inter=np.intersect1d(ni[splx[0]]['indices'], ni[splx[1]]['indices'],assume_unique=True)\n",
    "        edge_colors.append(inter.size)\n",
    "        ni[splx[0]]['indices']=np.setdiff1d(ni[splx[0]]['indices'], inter, assume_unique=True)\n",
    "        ni[splx[1]]['indices']=np.setdiff1d(ni[splx[1]]['indices'], inter, assume_unique=True)\n",
    "\n",
    "node_colors=[node['indices'].size for node in ni.values()]\n",
    "\n",
    "edge_colors=np.array(edge_colors)/size\n",
    "node_colors=np.array(node_colors)/size"
   ]
  },
  {
   "cell_type": "code",
   "execution_count": 87,
   "id": "13737a6f-3522-47c5-98cc-1088f75fa942",
   "metadata": {
    "scrolled": true
   },
   "outputs": [
    {
     "data": {
      "text/plain": [
       "np.float64(1.0)"
      ]
     },
     "execution_count": 87,
     "metadata": {},
     "output_type": "execute_result"
    }
   ],
   "source": [
    "np.sum(edge_colors)+np.sum(node_colors)"
   ]
  },
  {
   "cell_type": "code",
   "execution_count": 97,
   "id": "cffa751f-91ef-49c7-8ab0-2adbd1778634",
   "metadata": {},
   "outputs": [
    {
     "data": {
      "image/png": "[encoded data removed]",
      "text/plain": [
       "<Figure size 640x480 with 1 Axes>"
      ]
     },
     "metadata": {},
     "output_type": "display_data"
    }
   ],
   "source": [
    "import networkx as nx\n",
    "G = nx.Graph()\n",
    "st=mapper.simplex_tree\n",
    "for splx, _ in st.get_skeleton(1):\n",
    "    if len(splx) == 1:\n",
    "        G.add_node(splx[0])\n",
    "    if len(splx) == 2:\n",
    "        G.add_edge(splx[0], splx[1])\n",
    "\n",
    "\n",
    "options = {\n",
    "    \"node_color\": node_colors,\n",
    "    \"edge_color\": edge_colors,\n",
    "    \"node_size\":250,\n",
    "    \"width\": 1,\n",
    "    \"with_labels\": False,\n",
    "}\n",
    "pos = nx.kamada_kawai_layout(G)\n",
    "nx.draw(G, pos,**options)\n",
    "plt.show()"
   ]
  },
  {
   "cell_type": "code",
   "execution_count": 13,
   "id": "b8887423-a424-4ec3-a17e-624d4df81e2c",
   "metadata": {},
   "outputs": [
    {
     "name": "stdout",
     "output_type": "stream",
     "text": [
      "Warning: When  cdn_resources is 'local' jupyter notebook has issues displaying graphics on chrome/safari. Use cdn_resources='in_line' or cdn_resources='remote' if you have issues viewing graphics in a notebook.\n",
      "torus.html\n"
     ]
    },
    {
     "data": {
      "text/html": [
       "\n",
       "        <iframe\n",
       "            width=\"500px\"\n",
       "            height=\"500px\"\n",
       "            src=\"torus.html\"\n",
       "            frameborder=\"0\"\n",
       "            allowfullscreen\n",
       "            \n",
       "        ></iframe>\n",
       "        "
      ],
      "text/plain": [
       "<IPython.lib.display.IFrame at 0x11056c7c0>"
      ]
     },
     "execution_count": 13,
     "metadata": {},
     "output_type": "execute_result"
    }
   ],
   "source": [
    "nt=mapper.get_pyvis()\n",
    "nt.show('torus.html')"
   ]
  },
  {
   "cell_type": "code",
   "execution_count": 146,
   "id": "c055991e-7203-4122-93b8-58e31f931cfe",
   "metadata": {},
   "outputs": [],
   "source": [
    "p,C=get_ot_params(mapper,c/points.shape[0],points,R+r)"
   ]
  },
  {
   "cell_type": "code",
   "execution_count": 101,
   "id": "9f5db2f3-9d7f-42b9-b11e-22bc03a49c9d",
   "metadata": {},
   "outputs": [],
   "source": [
    "def sample_phi(size,alpha,beta):\n",
    "\n",
    "    u=uniform(size=size)\n",
    "    v=uniform(size=size)\n",
    "    \n",
    "    v[u<alpha]=v[u<alpha]*np.pi/3+5*np.pi/6\n",
    "    v[(u>alpha)*(u<alpha+beta)]=v[(u>alpha)*(u<alpha+beta)]*np.pi/3-np.pi/6\n",
    "    v[v<0]=v[v<0]+2*np.pi\n",
    "    v[(u>alpha+beta)*(u<(1+alpha+beta)/2)]=v[(u>alpha+beta)*(u<(1+alpha+beta)/2)]*2*np.pi/3+np.pi/6\n",
    "    v[u>(1+alpha+beta)/2]=v[u>(1+alpha+beta)/2]*2*np.pi/3+7*np.pi/6\n",
    "\n",
    "    return v"
   ]
  },
  {
   "cell_type": "code",
   "execution_count": 102,
   "id": "cfb5cfa8-2a50-41b5-81d8-6c23fa04ee65",
   "metadata": {},
   "outputs": [],
   "source": [
    "def sample_torus_unbalanced(size,R,r,alpha,beta):\n",
    "    n=int(size*2)\n",
    "    \n",
    "    \n",
    "    \n",
    "    #phi=uniform(size=size)*np.pi+(uniform(size=size)<1/4)*np.pi\n",
    "    phi=sample_phi(size,alpha,beta)\n",
    "    \n",
    "    # Rejection sampling for theta\n",
    "    theta=uniform(size=n)*2*np.pi\n",
    "    \n",
    "    u=uniform(size=n)\n",
    "    \n",
    "    theta=theta[u<=(R+r*np.cos(theta))/(R+r)]\n",
    "    theta=theta[:size]\n",
    "\n",
    "    x=(R+r*np.cos(theta))*np.cos(phi)\n",
    "    y=(R+r*np.cos(theta))*np.sin(phi)\n",
    "    z=r*np.sin(theta)\n",
    "    \n",
    "    return (np.array([x,y,z]).T)[:size,:]  "
   ]
  },
  {
   "cell_type": "code",
   "execution_count": 149,
   "id": "43b5f337-2a8d-4b1f-8914-83ad58266efa",
   "metadata": {},
   "outputs": [
    {
     "data": {
      "application/vnd.jupyter.widget-view+json": {
       "model_id": "ed8c4c9803d6482aa054c0d6cdbc0584",
       "version_major": 2,
       "version_minor": 0
      },
      "text/plain": [
       "Renderer(camera=PerspectiveCamera(children=(DirectionalLight(color='white', intensity=0.6, position=(-8.344650…"
      ]
     },
     "metadata": {},
     "output_type": "display_data"
    }
   ],
   "source": [
    "alpha=1/12\n",
    "beta=1/12\n",
    "points=sample_torus_unbalanced(200000,R,r,alpha,beta)\n",
    "mp.plot(points);"
   ]
  },
  {
   "cell_type": "code",
   "execution_count": 158,
   "id": "d78b48cb-f672-4ab0-842b-9b64b8a46cfa",
   "metadata": {},
   "outputs": [
    {
     "name": "stderr",
     "output_type": "stream",
     "text": [
      "9it [00:50,  5.61s/it]\n"
     ]
    }
   ],
   "source": [
    "np.random.seed(0)\n",
    "size=int(5e5)\n",
    "values=[1/12,1/6,1/3]\n",
    "c=np.repeat(1,size).reshape((-1,1))\n",
    "resolutions=np.array([30])\n",
    "gain=np.array([0.3])\n",
    "ps=[]\n",
    "Cs=[]\n",
    "for alpha,beta in tqdm(itertools.product(values,values)):\n",
    "    points=sample_torus_unbalanced(size,R,r,alpha,beta)\n",
    "    f=points[:,1].reshape((-1,1))\n",
    "    mapper=MapperComplex(colors=c,filters=f,resolutions=resolutions, gains=gain, clustering=clus)\n",
    "    mapper.fit(points);\n",
    "    p_u,C_u=get_ot_params(mapper,c/size,points,R+r)\n",
    "    ps.append(p_u)\n",
    "    Cs.append(C_u)"
   ]
  },
  {
   "cell_type": "code",
   "execution_count": 159,
   "id": "e6834c00-7092-4c87-94ed-6ea4014dab89",
   "metadata": {},
   "outputs": [
    {
     "data": {
      "text/plain": [
       "(500000, 3)"
      ]
     },
     "execution_count": 159,
     "metadata": {},
     "output_type": "execute_result"
    }
   ],
   "source": [
    "points.shape"
   ]
  },
  {
   "cell_type": "code",
   "execution_count": 160,
   "id": "e8ff7602-bfca-4521-9e88-a27512a25300",
   "metadata": {},
   "outputs": [],
   "source": [
    "M=np.zeros((9,9))\n",
    "for i in range(9):\n",
    "    for j in range(i):\n",
    "        T,l=gromov_wasserstein(Cs[i], Cs[j], p=ps[i], q=ps[j],symmetric=True,log=True)\n",
    "        M[i,j]=l['gw_dist']\n",
    "        M[j,i]=M[i,j]"
   ]
  },
  {
   "cell_type": "code",
   "execution_count": 161,
   "id": "78ab84b5-926b-429c-8e28-a9481ac70e6b",
   "metadata": {},
   "outputs": [],
   "source": [
    "embedding = MDS(n_components=2,dissimilarity='precomputed')\n",
    "X = embedding.fit_transform(M)"
   ]
  },
  {
   "cell_type": "code",
   "execution_count": 162,
   "id": "3fc63bde-f415-4d2e-8a3b-95f8ad21630a",
   "metadata": {},
   "outputs": [
    {
     "data": {
      "text/plain": [
       "[(0.08333333333333333, 0.08333333333333333),\n",
       " (0.08333333333333333, 0.16666666666666666),\n",
       " (0.08333333333333333, 0.3333333333333333),\n",
       " (0.16666666666666666, 0.08333333333333333),\n",
       " (0.16666666666666666, 0.16666666666666666),\n",
       " (0.16666666666666666, 0.3333333333333333),\n",
       " (0.3333333333333333, 0.08333333333333333),\n",
       " (0.3333333333333333, 0.16666666666666666),\n",
       " (0.3333333333333333, 0.3333333333333333)]"
      ]
     },
     "execution_count": 162,
     "metadata": {},
     "output_type": "execute_result"
    }
   ],
   "source": [
    "list(itertools.product(values,values))"
   ]
  },
  {
   "cell_type": "code",
   "execution_count": 172,
   "id": "d37fc348-af24-4fbc-992b-a848b5d6e277",
   "metadata": {},
   "outputs": [
    {
     "data": {
      "image/png": "[encoded data removed]",
      "text/plain": [
       "<Figure size 640x480 with 1 Axes>"
      ]
     },
     "metadata": {},
     "output_type": "display_data"
    }
   ],
   "source": [
    "\n",
    "labels = ['a','b','c','d','e','f','g','h','i']\n",
    "\n",
    "fig, ax = plt.subplots()\n",
    "ax.scatter(X[:,0], X[:,1])\n",
    "for i, txt in enumerate(labels):\n",
    "    if i==7 or i==3:\n",
    "        ax.annotate(txt, (X[i,0], X[i,1]),(X[i,0]-0.003, X[i,1]-0.005))\n",
    "    else:    \n",
    "        ax.annotate(txt, (X[i,0], X[i,1]),(X[i,0]+0.002, X[i,1]+0.001))\n",
    "\n",
    "fig.savefig(\"mds.png\")"
   ]
  },
  {
   "cell_type": "code",
   "execution_count": 173,
   "id": "6dbdca2c-8d07-47f3-920a-ac985f6f2fc2",
   "metadata": {},
   "outputs": [
    {
     "data": {
      "text/plain": [
       "array([0.69419561, 0.44729754, 0.49733636, 0.44467399, 0.54355171,\n",
       "       0.51497607, 0.55239735, 0.57624176, 0.64675462])"
      ]
     },
     "execution_count": 173,
     "metadata": {},
     "output_type": "execute_result"
    }
   ],
   "source": [
    "M.sum(axis=0)"
   ]
  },
  {
   "cell_type": "markdown",
   "id": "918f0753-805b-4226-ab7a-ab516ec405c9",
   "metadata": {},
   "source": [
    "## Graph visualization"
   ]
  },
  {
   "cell_type": "code",
   "execution_count": 112,
   "id": "bea8758d-fedd-4a41-a4ec-a8a86c06f297",
   "metadata": {},
   "outputs": [
    {
     "data": {
      "image/png": "[encoded data removed]",
      "text/plain": [
       "<Figure size 640x480 with 1 Axes>"
      ]
     },
     "metadata": {},
     "output_type": "display_data"
    }
   ],
   "source": [
    "values=[1/12,1/6,1/3]\n",
    "for alpha,beta in zip(values,values):\n",
    "    points=sample_torus_unbalanced(size,R,r,alpha,beta)\n",
    "    f=points[:,1].reshape((-1,1))\n",
    "    mapper=MapperComplex(colors=c,filters=f,resolutions=resolutions, gains=gain, clustering=clus)\n",
    "    mapper.fit(points);\n",
    "    ni=mapper.node_info.copy()\n",
    "    edge_colors=[]\n",
    "\n",
    "\n",
    "    for (splx,_) in st.get_skeleton(1):\n",
    "        if len(splx) == 2:\n",
    "            inter=np.intersect1d(ni[splx[0]]['indices'], ni[splx[1]]['indices'],assume_unique=True)\n",
    "            edge_colors.append(inter.size)\n",
    "            ni[splx[0]]['indices']=np.setdiff1d(ni[splx[0]]['indices'], inter, assume_unique=True)\n",
    "            ni[splx[1]]['indices']=np.setdiff1d(ni[splx[1]]['indices'], inter, assume_unique=True)\n",
    "    \n",
    "    node_colors=[node['indices'].size for node in ni.values()]\n",
    "    \n",
    "    edge_colors=np.array(edge_colors)/size\n",
    "    node_colors=np.array(node_colors)/size\n",
    "    G = nx.Graph()\n",
    "    st=mapper.simplex_tree\n",
    "    for splx, _ in st.get_skeleton(1):\n",
    "        if len(splx) == 1:\n",
    "            G.add_node(splx[0])\n",
    "        if len(splx) == 2:\n",
    "            G.add_edge(splx[0], splx[1])\n",
    "    \n",
    "    \n",
    "    options = {\n",
    "        \"node_color\": node_colors,\n",
    "        \"edge_color\": edge_colors,\n",
    "        \"node_size\":250,\n",
    "        \"edge_cmap\": plt.cm.hot,\n",
    "        \"width\": 1,\n",
    "        \"with_labels\": False,\n",
    "    }\n",
    "    pos = nx.kamada_kawai_layout(G)\n",
    "    nx.draw(G, pos,**options,cmap=plt.cm.hot)\n",
    "    plt.savefig('mapper'+str(alpha)+'_'+str(beta)+'.png')"
   ]
  },
  {
   "cell_type": "code",
   "execution_count": null,
   "id": "718aaf0a-7cc1-4374-bfef-b2f770c4f874",
   "metadata": {},
   "outputs": [],
   "source": []
  }
 ],
 "metadata": {
  "kernelspec": {
   "display_name": "Python 3 (ipykernel)",
   "language": "python",
   "name": "python3"
  },
  "language_info": {
   "codemirror_mode": {
    "name": "ipython",
    "version": 3
   },
   "file_extension": ".py",
   "mimetype": "text/x-python",
   "name": "python",
   "nbconvert_exporter": "python",
   "pygments_lexer": "ipython3",
   "version": "3.9.21"
  }
 },
 "nbformat": 4,
 "nbformat_minor": 5
}
